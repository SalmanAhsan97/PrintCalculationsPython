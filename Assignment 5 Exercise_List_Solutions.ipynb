{
 "cells": [
  {
   "cell_type": "markdown",
   "metadata": {},
   "source": [
    "# Python Exercise on List\n",
    "# Salman Ahsan Khan"
   ]
  },
  {
   "cell_type": "code",
   "execution_count": 1,
   "metadata": {},
   "outputs": [
    {
     "name": "stdout",
     "output_type": "stream",
     "text": [
      "Salman\n",
      "Ahsan\n",
      "Abdullah\n"
     ]
    }
   ],
   "source": [
    "# 3.1\n",
    "listt = ['Salman', 'Ahsan', 'Abdullah']\n",
    "for i in listt:\n",
    "    print(i)\n"
   ]
  },
  {
   "cell_type": "code",
   "execution_count": 2,
   "metadata": {},
   "outputs": [
    {
     "name": "stdout",
     "output_type": "stream",
     "text": [
      "Hello Salman, How are you?\n",
      "Hello Ahsan, How are you?\n",
      "Hello Abdullah, How are you?\n"
     ]
    }
   ],
   "source": [
    "# 3.2 Greetings \n",
    "list2 = ['Salman','Ahsan', 'Abdullah']\n",
    "for i in list2:\n",
    "    print(f\"Hello {i}, How are you?\")\n"
   ]
  },
  {
   "cell_type": "code",
   "execution_count": 3,
   "metadata": {},
   "outputs": [
    {
     "name": "stdout",
     "output_type": "stream",
     "text": [
      "I would like to own a motorcycle.\n",
      "I would like to own a car.\n",
      "I would like to own a bicycle.\n",
      "I would like to own a airplane.\n"
     ]
    }
   ],
   "source": [
    "#3.3 Your Own List\n",
    "transportation = [\"motorcycle\", \"car\", \"bicycle\", \"airplane\"]\n",
    "\n",
    "for vehicle in transportation:\n",
    "  print(\"I would like to own a\", vehicle + \".\")"
   ]
  },
  {
   "cell_type": "code",
   "execution_count": 4,
   "metadata": {},
   "outputs": [
    {
     "name": "stdout",
     "output_type": "stream",
     "text": [
      "Hi Ahsan, Please come to the dinner at 8 PM\n",
      "Hi Ali, Please come to the dinner at 8 PM\n",
      "Hi rohaan, Please come to the dinner at 8 PM\n"
     ]
    }
   ],
   "source": [
    "#3.4: Guest List\n",
    "gl = ['Ahsan', 'Ali', 'rohaan']\n",
    "for i in gl:\n",
    "    print(f\"Hi {i}, Please come to the dinner at 8 PM\")\n"
   ]
  },
  {
   "cell_type": "code",
   "execution_count": 5,
   "metadata": {},
   "outputs": [
    {
     "name": "stdout",
     "output_type": "stream",
     "text": [
      "saad cant make it\n",
      "['Ali', 'Ali', 'rohaan']\n",
      "Here is the update guest list name\n",
      "Hi Ali, Lets have Dinner at 9PM\n",
      "Hi Ali, Lets have Dinner at 9PM\n",
      "Hi rohaan, Lets have Dinner at 9PM\n"
     ]
    }
   ],
   "source": [
    "#3.5: Changing Guest List\n",
    "print(\"saad cant make it\")\n",
    "gl[0] = 'Ali'\n",
    "print(gl)\n",
    "print('Here is the update guest list name')\n",
    "for guest in gl:\n",
    "    print(f\"Hi {guest}, Lets have Dinner at 9PM\")"
   ]
  },
  {
   "cell_type": "code",
   "execution_count": 6,
   "metadata": {},
   "outputs": [
    {
     "name": "stdout",
     "output_type": "stream",
     "text": [
      "You are invited to dinner!\n",
      "Hi Saad, please come to dinner at 8 PM.\n",
      "Hi Umair, please come to dinner at 8 PM.\n",
      "Hi Mehtab, please come to dinner at 8 PM.\n",
      "\n",
      "We found a bigger table!\n",
      "\n",
      "Here's the updated guest list:\n",
      "Hi Ali, let's come to dinner at 8 PM.\n",
      "Hi Saad, let's come to dinner at 8 PM.\n",
      "Hi Farhan, let's come to dinner at 8 PM.\n",
      "Hi Umair, let's come to dinner at 8 PM.\n",
      "Hi Mehtab, let's come to dinner at 8 PM.\n",
      "Hi Zara, let's come to dinner at 8 PM.\n"
     ]
    }
   ],
   "source": [
    "#3.6 More Guests\n",
    "guests = ['Saad', 'Umair', 'Mehtab']\n",
    "\n",
    "print(\"You are invited to dinner!\")\n",
    "for guest in guests:\n",
    "    print(f\"Hi {guest}, please come to dinner at 8 PM.\")\n",
    "\n",
    "print(\"\\nWe found a bigger table!\")\n",
    "\n",
    "guests.insert(0, 'Ali')\n",
    "guests.insert(2, 'Farhan')\n",
    "guests.append('Zara')\n",
    "\n",
    "print(\"\\nHere's the updated guest list:\")\n",
    "for guest in guests:\n",
    "    print(f\"Hi {guest}, let's come to dinner at 8 PM.\")"
   ]
  },
  {
   "cell_type": "code",
   "execution_count": 7,
   "metadata": {},
   "outputs": [
    {
     "name": "stdout",
     "output_type": "stream",
     "text": [
      "You are invited to dinner!\n",
      "Hi Saad, please come to dinner at 8 PM.\n",
      "Hi Umair, please come to dinner at 8 PM.\n",
      "Hi Mehtab, please come to dinner at 8 PM.\n",
      "Hi Ali, please come to dinner at 8 PM.\n",
      "Hi Farhan, please come to dinner at 8 PM.\n",
      "Hi Zara, please come to dinner at 8 PM.\n",
      "\n",
      "We found a bigger table!\n",
      "\n",
      "Here's the updated guest list:\n",
      "Hi Ali, please come to dinner at 8 PM.\n",
      "Hi Saad, please come to dinner at 8 PM.\n",
      "Hi Farhan, please come to dinner at 8 PM.\n",
      "Hi Umair, please come to dinner at 8 PM.\n",
      "Hi Mehtab, please come to dinner at 8 PM.\n",
      "Hi Ali, please come to dinner at 8 PM.\n",
      "Hi Farhan, please come to dinner at 8 PM.\n",
      "Hi Zara, please come to dinner at 8 PM.\n",
      "Hi Zara, please come to dinner at 8 PM.\n",
      "\n",
      "Unfortunately, we can only invite two people for dinner.\n",
      "Dear Zara, we're sorry, we can't invite you to dinner.\n",
      "Dear Zara, we're sorry, we can't invite you to dinner.\n",
      "Dear Farhan, we're sorry, we can't invite you to dinner.\n",
      "Dear Ali, we're sorry, we can't invite you to dinner.\n",
      "Dear Mehtab, we're sorry, we can't invite you to dinner.\n",
      "Dear Umair, we're sorry, we can't invite you to dinner.\n",
      "Dear Farhan, we're sorry, we can't invite you to dinner.\n",
      "\n",
      "The following guests are still invited:\n",
      "Hi Ali, you're still invited to dinner!\n",
      "Hi Saad, you're still invited to dinner!\n",
      "[]\n"
     ]
    }
   ],
   "source": [
    "#3.7\n",
    "guests = ['Saad', 'Umair', 'Mehtab', 'Ali', 'Farhan', 'Zara']\n",
    "\n",
    "print(\"You are invited to dinner!\")\n",
    "for guest in guests:\n",
    "    print(f\"Hi {guest}, please come to dinner at 8 PM.\")\n",
    "\n",
    "print(\"\\nWe found a bigger table!\")\n",
    "\n",
    "guests.insert(0, 'Ali')\n",
    "guests.insert(2, 'Farhan')\n",
    "guests.append('Zara')\n",
    "\n",
    "print(\"\\nHere's the updated guest list:\")\n",
    "for guest in guests:\n",
    "    print(f\"Hi {guest}, please come to dinner at 8 PM.\")\n",
    "\n",
    "print(\"\\nUnfortunately, we can only invite two people for dinner.\")\n",
    "\n",
    "while len(guests) > 2:\n",
    "    removed_guest = guests.pop()\n",
    "    print(f\"Dear {removed_guest}, we're sorry, we can't invite you to dinner.\")\n",
    "\n",
    "print(\"\\nThe following guests are still invited:\")\n",
    "for guest in guests:\n",
    "    print(f\"Hi {guest}, you're still invited to dinner!\")\n",
    "\n",
    "del guests[0]\n",
    "del guests[0]\n",
    "\n",
    "print(guests)"
   ]
  },
  {
   "cell_type": "code",
   "execution_count": 8,
   "metadata": {},
   "outputs": [
    {
     "name": "stdout",
     "output_type": "stream",
     "text": [
      "['Japan', 'Australia', 'Canada']\n",
      "['Australia', 'Canada', 'Japan']\n",
      "['Japan', 'Canada', 'Australia']\n",
      "['Japan', 'Australia', 'Canada']\n",
      "['Canada', 'Australia', 'Japan']\n",
      "['Japan', 'Australia', 'Canada']\n",
      "['Australia', 'Canada', 'Japan']\n"
     ]
    }
   ],
   "source": [
    "# 3.8\n",
    "places_to_visit = [\"Japan\", \"Australia\", \"Canada\"]\n",
    "\n",
    "print(places_to_visit)\n",
    "\n",
    "print(sorted(places_to_visit))\n",
    "print(sorted(places_to_visit, reverse=True))\n",
    "\n",
    "print(places_to_visit)\n",
    "\n",
    "places_to_visit.reverse()\n",
    "print(places_to_visit)\n",
    "\n",
    "places_to_visit.reverse()\n",
    "print(places_to_visit)\n",
    "\n",
    "places_to_visit.sort()\n",
    "print(places_to_visit)"
   ]
  },
  {
   "cell_type": "code",
   "execution_count": 9,
   "metadata": {},
   "outputs": [
    {
     "name": "stdout",
     "output_type": "stream",
     "text": [
      "First country: United States\n",
      "Last country: Brazil\n",
      "Countries after appending India: ['United States', 'Canada', 'Australia', 'Japan', 'Brazil', 'India']\n",
      "Countries after inserting China: ['United States', 'Canada', 'China', 'Australia', 'Japan', 'Brazil', 'India']\n",
      "Countries after removing Canada: ['United States', 'China', 'Australia', 'Japan', 'Brazil', 'India']\n",
      "Countries in alphabetical order: ['Australia', 'Brazil', 'China', 'India', 'Japan', 'United States']\n",
      "Countries in reverse alphabetical order: ['United States', 'Japan', 'India', 'China', 'Brazil', 'Australia']\n",
      "Number of countries: 6\n"
     ]
    }
   ],
   "source": [
    "# 3.9\n",
    "# Create a list of countries\n",
    "countries = [\"United States\", \"Canada\", \"Australia\", \"Japan\", \"Brazil\"]\n",
    "\n",
    "# Accessing elements\n",
    "print(\"First country:\", countries[0])\n",
    "print(\"Last country:\", countries[-1])\n",
    "\n",
    "# Modifying the list\n",
    "countries.append(\"India\")\n",
    "print(\"Countries after appending India:\", countries)\n",
    "\n",
    "countries.insert(2, \"China\")\n",
    "print(\"Countries after inserting China:\", countries)\n",
    "\n",
    "countries.remove(\"Canada\")\n",
    "print(\"Countries after removing Canada:\", countries)\n",
    "\n",
    "# Sorting the list\n",
    "countries.sort()\n",
    "print(\"Countries in alphabetical order:\", countries)\n",
    "\n",
    "countries.reverse()\n",
    "print(\"Countries in reverse alphabetical order:\", countries)\n",
    "\n",
    "# Finding the length of the list\n",
    "print(\"Number of countries:\", len(countries))"
   ]
  }
 ],
 "metadata": {
  "kernelspec": {
   "display_name": "base",
   "language": "python",
   "name": "python3"
  },
  "language_info": {
   "codemirror_mode": {
    "name": "ipython",
    "version": 3
   },
   "file_extension": ".py",
   "mimetype": "text/x-python",
   "name": "python",
   "nbconvert_exporter": "python",
   "pygments_lexer": "ipython3",
   "version": "3.12.4"
  }
 },
 "nbformat": 4,
 "nbformat_minor": 2
}
